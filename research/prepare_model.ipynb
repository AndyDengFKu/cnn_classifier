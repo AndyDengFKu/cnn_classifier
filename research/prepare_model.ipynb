{
 "cells": [
  {
   "cell_type": "code",
   "execution_count": 1,
   "id": "d089363d",
   "metadata": {},
   "outputs": [
    {
     "data": {
      "text/plain": [
       "'c:\\\\Users\\\\dengz\\\\Desktop\\\\Projects\\\\cnn_classifier\\\\research'"
      ]
     },
     "execution_count": 1,
     "metadata": {},
     "output_type": "execute_result"
    }
   ],
   "source": [
    "import os\n",
    "%pwd"
   ]
  },
  {
   "cell_type": "code",
   "execution_count": 2,
   "id": "6abe3399",
   "metadata": {},
   "outputs": [
    {
     "data": {
      "text/plain": [
       "'c:\\\\Users\\\\dengz\\\\Desktop\\\\Projects\\\\cnn_classifier'"
      ]
     },
     "execution_count": 2,
     "metadata": {},
     "output_type": "execute_result"
    }
   ],
   "source": [
    "os.chdir(\"../\")\n",
    "%pwd"
   ]
  },
  {
   "cell_type": "code",
   "execution_count": 3,
   "id": "ff4271fd",
   "metadata": {},
   "outputs": [],
   "source": [
    "from dataclasses import dataclass\n",
    "from pathlib import Path\n",
    "\n",
    "\n",
    "@dataclass(frozen=True)\n",
    "class PrepareBaseModelConfig:\n",
    "    root_dir: Path\n",
    "    base_model_path: Path\n",
    "    updated_base_model_path: Path\n",
    "    params_image_size: list  # 在 PyTorch ResNet 中未直接使用，但保留以兼容配置\n",
    "    params_learning_rate: float\n",
    "    params_include_top: bool\n",
    "    params_weights: str\n",
    "    params_classes: int"
   ]
  },
  {
   "cell_type": "code",
   "execution_count": 4,
   "id": "b1463ae1",
   "metadata": {},
   "outputs": [],
   "source": [
    "from cnnClassifier.constants import *\n",
    "from cnnClassifier.utils.common import read_yaml, create_directories"
   ]
  },
  {
   "cell_type": "code",
   "execution_count": 5,
   "id": "4cea3efc",
   "metadata": {},
   "outputs": [],
   "source": [
    "class ConfigurationManager:\n",
    "    def __init__(\n",
    "        self,\n",
    "        config_filepath = CONFIG_FILE_PATH,\n",
    "        params_filepath = PARAMS_FILE_PATH):\n",
    "\n",
    "        self.config = read_yaml(config_filepath)\n",
    "        self.params = read_yaml(params_filepath)\n",
    "\n",
    "        create_directories([self.config.artifacts_root])\n",
    "\n",
    "\n",
    "    def get_prepare_base_model_config(self) -> PrepareBaseModelConfig:\n",
    "        config = self.config.prepare_base_model\n",
    "        \n",
    "        create_directories([config.root_dir])\n",
    "\n",
    "        prepare_base_model_config = PrepareBaseModelConfig(\n",
    "            root_dir=Path(config.root_dir),\n",
    "            base_model_path=Path(config.base_model_path),\n",
    "            updated_base_model_path=Path(config.updated_base_model_path),\n",
    "            params_image_size=self.params.IMAGE_SIZE,\n",
    "            params_learning_rate=self.params.LEARNING_RATE,\n",
    "            params_include_top=self.params.INCLUDE_TOP,\n",
    "            params_weights=self.params.WEIGHTS,\n",
    "            params_classes=self.params.CLASSES\n",
    "        )\n",
    "\n",
    "        return prepare_base_model_config"
   ]
  },
  {
   "cell_type": "code",
   "execution_count": 6,
   "id": "d4affbd5",
   "metadata": {},
   "outputs": [],
   "source": [
    "import os\n",
    "import urllib.request as request\n",
    "from zipfile import ZipFile\n",
    "import torch\n",
    "import torch.nn as nn\n",
    "import torchvision.models as models"
   ]
  },
  {
   "cell_type": "code",
   "execution_count": 7,
   "id": "9aa12107",
   "metadata": {},
   "outputs": [],
   "source": [
    "class PrepareBaseModel:\n",
    "    def __init__(self, config: PrepareBaseModelConfig):\n",
    "        self.config = config\n",
    "        create_directories([self.config.root_dir])\n",
    "\n",
    "    def get_base_model(self):\n",
    "        # 根据配置加载 ResNet-18，预训练权重（ImageNet）或随机初始化\n",
    "        weights = None\n",
    "        if self.config.params_weights.lower() == \"imagenet\":\n",
    "            weights = models.ResNet18_Weights.IMAGENET1K_V1\n",
    "        model = models.resnet18(weights=weights)\n",
    "\n",
    "        # 若不包含顶层，全连接层替换为空\n",
    "        if not self.config.params_include_top:\n",
    "            model.fc = nn.Identity()\n",
    "\n",
    "        self.base_model = model\n",
    "        # 保存基础模型的 state_dict\n",
    "        self.save_model(self.config.base_model_path, model)\n",
    "\n",
    "    def update_base_model(self):\n",
    "        model = self.base_model\n",
    "        # 冻结所有层参数\n",
    "        for param in model.parameters():\n",
    "            param.requires_grad = False\n",
    "\n",
    "        # 构建新的全连接分类层\n",
    "        # ResNet-18 默认 fc.in_features 为 512\n",
    "        in_features = model.fc.in_features if hasattr(model.fc, \"in_features\") else 512\n",
    "        model.fc = nn.Linear(in_features, self.config.params_classes)\n",
    "\n",
    "        # 仅分类层参数可训练，并初始化优化器\n",
    "        optimizer = torch.optim.SGD(model.fc.parameters(), lr=self.config.params_learning_rate)\n",
    "\n",
    "        self.full_model = model\n",
    "        self.optimizer = optimizer\n",
    "\n",
    "        # 保存更新后的模型 state_dict\n",
    "        self.save_model(self.config.updated_base_model_path, model)\n",
    "\n",
    "    @staticmethod\n",
    "    def save_model(path: Path, model: torch.nn.Module):\n",
    "        torch.save(model.state_dict(), path)\n",
    "\n",
    "\n"
   ]
  },
  {
   "cell_type": "code",
   "execution_count": 8,
   "id": "e4a00613",
   "metadata": {},
   "outputs": [
    {
     "name": "stdout",
     "output_type": "stream",
     "text": [
      "[2025-04-25 20:50:24,302: INFO: common: yaml file: config\\config.yaml loaded successfully]\n",
      "[2025-04-25 20:50:24,306: INFO: common: yaml file: params.yaml loaded successfully]\n",
      "[2025-04-25 20:50:24,308: INFO: common: created directory at: artifacts]\n",
      "[2025-04-25 20:50:24,309: INFO: common: created directory at: artifacts/prepare_base_model]\n",
      "[2025-04-25 20:50:24,310: INFO: common: created directory at: artifacts\\prepare_base_model]\n"
     ]
    }
   ],
   "source": [
    "try:\n",
    "    config = ConfigurationManager()\n",
    "    prepare_base_model_config = config.get_prepare_base_model_config()\n",
    "    prepare_base_model = PrepareBaseModel(config=prepare_base_model_config)\n",
    "    prepare_base_model.get_base_model()\n",
    "    prepare_base_model.update_base_model()\n",
    "except Exception as e:\n",
    "    raise e"
   ]
  }
 ],
 "metadata": {
  "kernelspec": {
   "display_name": "cnn_classifier",
   "language": "python",
   "name": "python3"
  },
  "language_info": {
   "codemirror_mode": {
    "name": "ipython",
    "version": 3
   },
   "file_extension": ".py",
   "mimetype": "text/x-python",
   "name": "python",
   "nbconvert_exporter": "python",
   "pygments_lexer": "ipython3",
   "version": "3.10.16"
  }
 },
 "nbformat": 4,
 "nbformat_minor": 5
}
