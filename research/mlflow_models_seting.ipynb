{
 "cells": [
  {
   "cell_type": "code",
   "execution_count": 1,
   "id": "4e713ecf",
   "metadata": {},
   "outputs": [
    {
     "name": "stdout",
     "output_type": "stream",
     "text": [
      "Tracking URI: https://dagshub.com/ZiqiDengZs/cnn_classifier.mlflow\n",
      "Registry URI: https://dagshub.com/ZiqiDengZs/cnn_classifier.mlflow\n"
     ]
    }
   ],
   "source": [
    "from urllib.parse import urlparse\n",
    "import mlflow\n",
    "from mlflow import MlflowClient\n",
    "\n",
    "# 1. 指向远程 Tracking & Registry\n",
    "mlflow.set_tracking_uri(\"https://dagshub.com/ZiqiDengZs/cnn_classifier.mlflow\")\n",
    "mlflow.set_registry_uri(\"https://dagshub.com/ZiqiDengZs/cnn_classifier.mlflow\")\n",
    "\n",
    "# 2. 验证打印\n",
    "print(\"Tracking URI:\", mlflow.get_tracking_uri())   # 应输出 https://dagshub.com/AndyDengFKu/cnn_classifier.mlflow\n",
    "print(\"Registry URI:\", mlflow.get_registry_uri())\n",
    "\n",
    "\n"
   ]
  },
  {
   "cell_type": "code",
   "execution_count": 5,
   "id": "b4ec0f78",
   "metadata": {},
   "outputs": [],
   "source": [
    "import os\n",
    "\n",
    "os.environ['MLFLOW_TRACKING_USERNAME'] = 'ZiqiDengZs'\n",
    "os.environ['MLFLOW_TRACKING_PASSWORD'] = '980221Dc'\n"
   ]
  },
  {
   "cell_type": "code",
   "execution_count": null,
   "id": "eb7d885c",
   "metadata": {},
   "outputs": [],
   "source": [
    "# 3. 查询已注册模型\n",
    "client = MlflowClient()\n",
    "# client.delete_registered_model(name=\"1\")\n",
    "models = client.search_registered_models()\n",
    "print(\"所有注册模型：\", [m.name for m in models])\n"
   ]
  },
  {
   "cell_type": "code",
   "execution_count": 9,
   "id": "46606af1",
   "metadata": {},
   "outputs": [],
   "source": [
    "client = MlflowClient()\n",
    "\n",
    "# 获取所有注册模型\n",
    "registered_models = client.search_registered_models()\n",
    "\n",
    "# 遍历每个模型，获取其别名\n",
    "for model in registered_models:\n",
    "    model_name = model.name\n",
    "    aliases = model.aliases  # aliases 是一个字典，键为别名名称，值为对应的版本号\n",
    "    if aliases:\n",
    "        print(f\"模型名称: {model_name}\")\n",
    "        for alias, version in aliases.items():\n",
    "            print(f\"  别名: {alias} -> 版本: {version}\")\n",
    "\n",
    "# 设置别名和标签\n",
    "client = MlflowClient()\n",
    "model_name = \"ResNet18Model\"\n",
    "production_version = \"2\"\n",
    "\n",
    "# 设置别名为 'production'\n",
    "client.set_registered_model_alias(name=model_name, alias=\"production\", version=production_version)\n",
    "\n",
    "# 获取所有版本\n",
    "model_versions = client.search_model_versions(f\"name='{model_name}'\")\n",
    "\n",
    "# 遍历所有版本，设置标签\n",
    "for mv in model_versions:\n",
    "    version = mv.version\n",
    "    if version == production_version:\n",
    "        # 设置标签为 'production'\n",
    "        client.set_model_version_tag(name=model_name, version=version, key=\"status\", value=\"production\")\n",
    "    else:\n",
    "        # 设置标签为 'archived'\n",
    "        client.set_model_version_tag(name=model_name, version=version, key=\"status\", value=\"archived\")\n"
   ]
  }
 ],
 "metadata": {
  "kernelspec": {
   "display_name": "cnn_classifier",
   "language": "python",
   "name": "python3"
  },
  "language_info": {
   "codemirror_mode": {
    "name": "ipython",
    "version": 3
   },
   "file_extension": ".py",
   "mimetype": "text/x-python",
   "name": "python",
   "nbconvert_exporter": "python",
   "pygments_lexer": "ipython3",
   "version": "3.10.16"
  }
 },
 "nbformat": 4,
 "nbformat_minor": 5
}
