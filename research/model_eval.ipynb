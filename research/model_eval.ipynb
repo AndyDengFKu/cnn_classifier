{
 "cells": [
  {
   "cell_type": "code",
   "execution_count": 1,
   "id": "59bdb152",
   "metadata": {},
   "outputs": [
    {
     "data": {
      "text/plain": [
       "'c:\\\\Users\\\\dengz\\\\Desktop\\\\Projects\\\\cnn_classifier\\\\research'"
      ]
     },
     "execution_count": 1,
     "metadata": {},
     "output_type": "execute_result"
    }
   ],
   "source": [
    "import os\n",
    "%pwd"
   ]
  },
  {
   "cell_type": "code",
   "execution_count": 2,
   "id": "1f7270ee",
   "metadata": {},
   "outputs": [
    {
     "data": {
      "text/plain": [
       "'c:\\\\Users\\\\dengz\\\\Desktop\\\\Projects\\\\cnn_classifier'"
      ]
     },
     "execution_count": 2,
     "metadata": {},
     "output_type": "execute_result"
    }
   ],
   "source": [
    "os.chdir(\"../\")\n",
    "%pwd"
   ]
  },
  {
   "cell_type": "code",
   "execution_count": 3,
   "id": "c481dbe0",
   "metadata": {},
   "outputs": [],
   "source": [
    "# import dagshub\n",
    "# dagshub.init(repo_owner='AndyDengFKu', repo_name='cnn_classifier', mlflow=True)\n",
    "\n",
    "# import mlflow\n",
    "# with mlflow.start_run():\n",
    "#   mlflow.log_param('parameter name', 'value')\n",
    "#   mlflow.log_metric('metric name', 1)"
   ]
  },
  {
   "cell_type": "code",
   "execution_count": 4,
   "id": "41e5048c",
   "metadata": {},
   "outputs": [],
   "source": [
    "from dataclasses import dataclass\n",
    "from pathlib import Path\n",
    "\n",
    "@dataclass(frozen=True)\n",
    "class EvaluationConfig:\n",
    "    path_of_model: Path\n",
    "    training_data: Path\n",
    "    all_params: dict\n",
    "    params_image_size: list\n",
    "    params_batch_size: int\n",
    "    params_num_classes: int"
   ]
  },
  {
   "cell_type": "code",
   "execution_count": 5,
   "id": "c4c4f973",
   "metadata": {},
   "outputs": [],
   "source": [
    "from cnnClassifier.constants import *\n",
    "from cnnClassifier.utils.common import read_yaml, create_directories, save_json"
   ]
  },
  {
   "cell_type": "code",
   "execution_count": 6,
   "id": "c6bb3fc5",
   "metadata": {},
   "outputs": [],
   "source": [
    "class ConfigurationManager:\n",
    "    def __init__(self,\n",
    "                 config_filepath=CONFIG_FILE_PATH,\n",
    "                 params_filepath=PARAMS_FILE_PATH):\n",
    "        self.config = read_yaml(config_filepath) \n",
    "        self.params = read_yaml(params_filepath)\n",
    "        create_directories([self.config.artifacts_root])\n",
    "\n",
    "    def get_evaluation_config(self) -> EvaluationConfig:\n",
    "            eval_config = EvaluationConfig(\n",
    "            path_of_model=Path(\"artifacts/training/model.pt\"),\n",
    "            training_data=Path(\"artifacts/data_ingestion/Chest-CT-Scan-data\"),\n",
    "            all_params=self.params,\n",
    "            params_image_size=self.params.IMAGE_SIZE,\n",
    "            params_batch_size=self.params.BATCH_SIZE,\n",
    "            params_num_classes=self.params.CLASSES\n",
    "        )\n",
    "            return eval_config\n",
    "\n"
   ]
  },
  {
   "cell_type": "code",
   "execution_count": 7,
   "id": "ceb955ae",
   "metadata": {},
   "outputs": [],
   "source": [
    "import torch\n",
    "import dagshub\n",
    "import mlflow\n",
    "import mlflow.pytorch\n",
    "import torch.nn.functional as F\n",
    "import torchvision.models as models\n",
    "\n",
    "from torch import nn\n",
    "from urllib.parse import urlparse\n",
    "from torchvision import datasets, transforms\n",
    "from torch.utils.data import DataLoader, random_split"
   ]
  },
  {
   "cell_type": "code",
   "execution_count": 8,
   "id": "1006148a",
   "metadata": {},
   "outputs": [],
   "source": [
    "class Evaluation:\n",
    "    def __init__(self, config: EvaluationConfig):\n",
    "        self.config = config\n",
    "        # 1. 构建验证集 DataLoader\n",
    "        normalize = transforms.Normalize(mean=[0.485,0.456,0.406],\n",
    "                                         std=[0.229,0.224,0.225])\n",
    "        valid_transform = transforms.Compose([\n",
    "            transforms.Resize(self.config.params_image_size[:2]),\n",
    "            transforms.ToTensor(),\n",
    "            normalize\n",
    "        ])\n",
    "        full_ds = datasets.ImageFolder(self.config.training_data,\n",
    "                                       transform=valid_transform)\n",
    "        val_size = int(0.2 * len(full_ds))\n",
    "        _, valid_ds = random_split(full_ds,\n",
    "                                   [len(full_ds)-val_size, val_size])\n",
    "        self.valid_loader = DataLoader(valid_ds,\n",
    "                                       batch_size=self.config.params_batch_size,\n",
    "                                       shuffle=False,\n",
    "                                       num_workers=4)\n",
    "\n",
    "    @staticmethod\n",
    "    def load_model(path: Path, num_classes: int, device):\n",
    "        model = models.resnet18(pretrained=False)\n",
    "        model.fc = nn.Linear(model.fc.in_features, num_classes)\n",
    "        state = torch.load(path, map_location=device)\n",
    "        model.load_state_dict(state)\n",
    "        return model.to(device)\n",
    "\n",
    "    def evaluate(self):\n",
    "        device = torch.device('cuda' if torch.cuda.is_available() else 'cpu')\n",
    "        self.model = self.load_model(self.config.path_of_model,\n",
    "                                     self.config.params_num_classes,\n",
    "                                     device)\n",
    "        self.model.eval()\n",
    "        total_loss, correct, total = 0.0, 0, 0\n",
    "        with torch.no_grad():\n",
    "            for X, y in self.valid_loader:\n",
    "                X, y = X.to(device), y.to(device)\n",
    "                logits = self.model(X)\n",
    "                loss = F.cross_entropy(logits, y, reduction='sum')\n",
    "                total_loss += loss.item()\n",
    "                correct += (logits.argmax(1) == y).sum().item()\n",
    "                total += y.size(0)\n",
    "        self.val_loss = total_loss / total\n",
    "        self.val_acc = correct / total\n",
    "\n",
    "    def save_score(self):\n",
    "        scores = {\"loss\": self.val_loss, \"accuracy\": self.val_acc}\n",
    "        save_json(path=Path(\"scores.json\"), data=scores)\n",
    "\n",
    "    def evaluation(self):\n",
    "  \n",
    "        # 1. dagshub + mlflow init\n",
    "        dagshub.init(\n",
    "            repo_owner='AndyDengFKu',\n",
    "            repo_name='cnn_classifier',\n",
    "            mlflow=True\n",
    "        )\n",
    "        # # 2. 设置 MLflow tracking server URI\n",
    "        # mlflow.set_tracking_uri(self.config.mlflow_uri)\n",
    "\n",
    "        # 获取 Tracking URI 的 scheme，用于判断 file store vs. 远程\n",
    "        tracking_scheme = urlparse(mlflow.get_tracking_uri()).scheme\n",
    "\n",
    "        # 3. 开启一个 MLflow run\n",
    "        with mlflow.start_run():\n",
    "            # 4. 评估 & 保存分数\n",
    "            self.evaluate()\n",
    "            self.save_score()\n",
    "\n",
    "            # 5. 一次性记录所有超参数\n",
    "            mlflow.log_params(self.config.all_params)\n",
    "\n",
    "            # 6. 记录关键指标\n",
    "            mlflow.log_metric('val_loss', self.val_loss)\n",
    "            mlflow.log_metric('val_accuracy', self.val_acc)\n",
    "\n",
    "            # 7. 上传 scores.json（可选）\n",
    "            mlflow.log_artifact(\"scores.json\")\n",
    "\n",
    "            # 8. 保存模型 artifact\n",
    "            if tracking_scheme != \"file\":\n",
    "                # 远程 Registry：带注册名\n",
    "                mlflow.pytorch.log_model(\n",
    "                    self.model,\n",
    "                    artifact_path=\"models\",\n",
    "                    registered_model_name=\"ResNet18Model\"\n",
    "                )\n",
    "            else:\n",
    "                # 本地 file store：只当做 artifact 保存\n",
    "                mlflow.pytorch.log_model(\n",
    "                    self.model,\n",
    "                    artifact_path=\"models\"\n",
    "                )\n"
   ]
  },
  {
   "cell_type": "code",
   "execution_count": 9,
   "id": "0daf8553",
   "metadata": {},
   "outputs": [
    {
     "name": "stdout",
     "output_type": "stream",
     "text": [
      "[2025-04-26 21:30:25,284: INFO: common: yaml file: config\\config.yaml loaded successfully]\n",
      "[2025-04-26 21:30:25,287: INFO: common: yaml file: params.yaml loaded successfully]\n",
      "[2025-04-26 21:30:25,288: INFO: common: created directory at: artifacts]\n",
      "[2025-04-26 21:30:25,800: INFO: _client: HTTP Request: GET https://dagshub.com/api/v1/user \"HTTP/1.1 200 OK\"]\n"
     ]
    },
    {
     "data": {
      "text/html": [
       "<pre style=\"white-space:pre;overflow-x:auto;line-height:normal;font-family:Menlo,'DejaVu Sans Mono',consolas,'Courier New',monospace\">Accessing as AndyDengFKu\n",
       "</pre>\n"
      ],
      "text/plain": [
       "Accessing as AndyDengFKu\n"
      ]
     },
     "metadata": {},
     "output_type": "display_data"
    },
    {
     "name": "stdout",
     "output_type": "stream",
     "text": [
      "[2025-04-26 21:30:25,805: INFO: helpers: Accessing as AndyDengFKu]\n",
      "[2025-04-26 21:30:26,330: INFO: _client: HTTP Request: GET https://dagshub.com/api/v1/repos/AndyDengFKu/cnn_classifier \"HTTP/1.1 200 OK\"]\n",
      "[2025-04-26 21:30:26,820: INFO: _client: HTTP Request: GET https://dagshub.com/api/v1/user \"HTTP/1.1 200 OK\"]\n"
     ]
    },
    {
     "data": {
      "text/html": [
       "<pre style=\"white-space:pre;overflow-x:auto;line-height:normal;font-family:Menlo,'DejaVu Sans Mono',consolas,'Courier New',monospace\">Initialized MLflow to track repo <span style=\"color: #008000; text-decoration-color: #008000\">\"AndyDengFKu/cnn_classifier\"</span>\n",
       "</pre>\n"
      ],
      "text/plain": [
       "Initialized MLflow to track repo \u001b[32m\"AndyDengFKu/cnn_classifier\"\u001b[0m\n"
      ]
     },
     "metadata": {},
     "output_type": "display_data"
    },
    {
     "name": "stdout",
     "output_type": "stream",
     "text": [
      "[2025-04-26 21:30:26,825: INFO: helpers: Initialized MLflow to track repo \"AndyDengFKu/cnn_classifier\"]\n"
     ]
    },
    {
     "data": {
      "text/html": [
       "<pre style=\"white-space:pre;overflow-x:auto;line-height:normal;font-family:Menlo,'DejaVu Sans Mono',consolas,'Courier New',monospace\">Repository AndyDengFKu/cnn_classifier initialized!\n",
       "</pre>\n"
      ],
      "text/plain": [
       "Repository AndyDengFKu/cnn_classifier initialized!\n"
      ]
     },
     "metadata": {},
     "output_type": "display_data"
    },
    {
     "name": "stdout",
     "output_type": "stream",
     "text": [
      "[2025-04-26 21:30:26,826: INFO: helpers: Repository AndyDengFKu/cnn_classifier initialized!]\n"
     ]
    },
    {
     "name": "stderr",
     "output_type": "stream",
     "text": [
      "c:\\Users\\dengz\\anaconda3\\envs\\cnn_classifier\\lib\\site-packages\\torchvision\\models\\_utils.py:208: UserWarning: The parameter 'pretrained' is deprecated since 0.13 and may be removed in the future, please use 'weights' instead.\n",
      "  warnings.warn(\n",
      "c:\\Users\\dengz\\anaconda3\\envs\\cnn_classifier\\lib\\site-packages\\torchvision\\models\\_utils.py:223: UserWarning: Arguments other than a weight enum or `None` for 'weights' are deprecated since 0.13 and may be removed in the future. The current behavior is equivalent to passing `weights=None`.\n",
      "  warnings.warn(msg)\n",
      "C:\\Users\\dengz\\AppData\\Local\\Temp\\ipykernel_4572\\4037134188.py:26: FutureWarning: You are using `torch.load` with `weights_only=False` (the current default value), which uses the default pickle module implicitly. It is possible to construct malicious pickle data which will execute arbitrary code during unpickling (See https://github.com/pytorch/pytorch/blob/main/SECURITY.md#untrusted-models for more details). In a future release, the default value for `weights_only` will be flipped to `True`. This limits the functions that could be executed during unpickling. Arbitrary objects will no longer be allowed to be loaded via this mode unless they are explicitly allowlisted by the user via `torch.serialization.add_safe_globals`. We recommend you start setting `weights_only=True` for any use case where you don't have full control of the loaded file. Please open an issue on GitHub for any issues related to this experimental feature.\n",
      "  state = torch.load(path, map_location=device)\n"
     ]
    },
    {
     "name": "stdout",
     "output_type": "stream",
     "text": [
      "[2025-04-26 21:30:31,845: INFO: common: json file saved at: scores.json]\n"
     ]
    },
    {
     "name": "stderr",
     "output_type": "stream",
     "text": [
      "2025/04/26 21:30:33 WARNING mlflow.utils.requirements_utils: Found torch version (2.5.1+cu118) contains a local version label (+cu118). MLflow logged a pip requirement for this package as 'torch==2.5.1' without the local version label to make it installable from PyPI. To specify pip requirements containing local version labels, please use `conda_env` or `pip_requirements`.\n",
      "2025/04/26 21:30:41 WARNING mlflow.utils.requirements_utils: Found torchvision version (0.20.1+cu118) contains a local version label (+cu118). MLflow logged a pip requirement for this package as 'torchvision==0.20.1' without the local version label to make it installable from PyPI. To specify pip requirements containing local version labels, please use `conda_env` or `pip_requirements`.\n",
      "2025/04/26 21:30:41 WARNING mlflow.models.model: Model logged without a signature and input example. Please set `input_example` parameter when logging the model to auto infer the model signature.\n",
      "Successfully registered model 'ResNet18Model'.\n",
      "2025/04/26 21:31:10 INFO mlflow.store.model_registry.abstract_store: Waiting up to 300 seconds for model version to finish creation. Model name: ResNet18Model, version 1\n",
      "Created version '1' of model 'ResNet18Model'.\n"
     ]
    },
    {
     "name": "stdout",
     "output_type": "stream",
     "text": [
      "🏃 View run kindly-slug-156 at: https://dagshub.com/AndyDengFKu/cnn_classifier.mlflow/#/experiments/0/runs/ce8c1aa2d3774a109490e16a36c11bb2\n",
      "🧪 View experiment at: https://dagshub.com/AndyDengFKu/cnn_classifier.mlflow/#/experiments/0\n"
     ]
    }
   ],
   "source": [
    "try:\n",
    "    config = ConfigurationManager()\n",
    "    eval_config = config.get_evaluation_config()\n",
    "    evaluation = Evaluation(eval_config)\n",
    "    evaluation.evaluation()\n",
    "except Exception as e:\n",
    "    raise e"
   ]
  }
 ],
 "metadata": {
  "kernelspec": {
   "display_name": "cnn_classifier",
   "language": "python",
   "name": "python3"
  },
  "language_info": {
   "codemirror_mode": {
    "name": "ipython",
    "version": 3
   },
   "file_extension": ".py",
   "mimetype": "text/x-python",
   "name": "python",
   "nbconvert_exporter": "python",
   "pygments_lexer": "ipython3",
   "version": "3.10.16"
  }
 },
 "nbformat": 4,
 "nbformat_minor": 5
}
