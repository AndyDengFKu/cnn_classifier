{
 "cells": [
  {
   "cell_type": "code",
   "execution_count": null,
   "id": "4c49c61e",
   "metadata": {},
   "outputs": [],
   "source": [
    "import torch, numpy\n",
    "print(f\"PyTorch: {torch.__version__}, CUDA: {torch.cuda.is_available()}\")\n",
    "print(f\"NumPy: {numpy.__version__}\")"
   ]
  },
  {
   "cell_type": "code",
   "execution_count": 3,
   "id": "44714e1a",
   "metadata": {},
   "outputs": [
    {
     "name": "stdout",
     "output_type": "stream",
     "text": [
      "✅ torch 导入成功\n",
      "✅ torchvision 导入成功\n",
      "✅ mlflow 导入成功\n",
      "✅ numpy 导入成功\n",
      "✅ ultralytics 导入成功\n",
      "✅ flask 导入成功\n",
      "✅ pandas 导入成功\n"
     ]
    }
   ],
   "source": [
    "import importlib\n",
    "import sys\n",
    "\n",
    "requirements = [\n",
    "    \"torch\",          # PyTorch\n",
    "    \"torchvision\",    # TorchVision\n",
    "    \"mlflow\",         # MLFlow\n",
    "    \"numpy\",          # NumPy\n",
    "    \"ultralytics\",    # YOLOv8\n",
    "    \"flask\",          # Flask\n",
    "    \"pandas\"          # Pandas\n",
    "]\n",
    "\n",
    "def test_imports():\n",
    "    for package in requirements:\n",
    "        try:\n",
    "            importlib.import_module(package)\n",
    "            print(f\"✅ {package} 导入成功\")\n",
    "        except ImportError as e:\n",
    "            print(f\"❌ {package} 导入失败: {str(e)}\")\n",
    "            sys.exit(1)\n",
    "\n",
    "if __name__ == \"__main__\":\n",
    "    test_imports()"
   ]
  }
 ],
 "metadata": {
  "kernelspec": {
   "display_name": "cnn_classifier",
   "language": "python",
   "name": "python3"
  },
  "language_info": {
   "codemirror_mode": {
    "name": "ipython",
    "version": 3
   },
   "file_extension": ".py",
   "mimetype": "text/x-python",
   "name": "python",
   "nbconvert_exporter": "python",
   "pygments_lexer": "ipython3",
   "version": "3.10.16"
  }
 },
 "nbformat": 4,
 "nbformat_minor": 5
}
